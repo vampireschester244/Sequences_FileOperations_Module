{
 "cells": [
  {
   "cell_type": "markdown",
   "metadata": {},
   "source": [
    "# Case Study II - Module2 - Sequences and File Operations"
   ]
  },
  {
   "cell_type": "code",
   "execution_count": 4,
   "metadata": {},
   "outputs": [
    {
     "name": "stdout",
     "output_type": "stream",
     "text": [
      "4\n"
     ]
    }
   ],
   "source": [
    "#1. What is the output of the following code?\n",
    "nums =set([1,1,2,3,3,3,4,4])\n",
    "print(len(nums))\n",
    "# Answer --4"
   ]
  },
  {
   "cell_type": "code",
   "execution_count": 6,
   "metadata": {},
   "outputs": [
    {
     "name": "stdout",
     "output_type": "stream",
     "text": [
      "['john', 'peter']\n"
     ]
    }
   ],
   "source": [
    "#2. What will be the output?\n",
    "d ={\"john\":40, \"peter\":45}\n",
    "print(list(d.keys()))\n",
    "# Answer - ['john', 'peter']"
   ]
  },
  {
   "cell_type": "code",
   "execution_count": 37,
   "metadata": {
    "scrolled": true
   },
   "outputs": [
    {
     "name": "stdout",
     "output_type": "stream",
     "text": [
      "Enter the password: Qwertyuiopasdf@12345\n",
      "Enter length of password must be maximum of 12\n",
      "Not valid password!\n"
     ]
    }
   ],
   "source": [
    "#3. A website requires a user to input username and password to register. \n",
    "# Write a program to check the validity of password given by user\n",
    "import re\n",
    "password = input(\"Enter the password: \")\n",
    "set_flag = 0\n",
    "while True:\n",
    "    if (len(password) < 6):\n",
    "        set_flag = -1\n",
    "        print(\"Enter length of password must be minimum of 6\")\n",
    "        break\n",
    "    elif (len(password) > 12):\n",
    "        set_flag = -1\n",
    "        print(\"Enter length of password must be maximum of 12\")\n",
    "        break\n",
    "    elif not re.search(\"[a-z]\", password):\n",
    "        set_flag = -1\n",
    "        print(\"Enter atleast one lowercase letter from a to z\")\n",
    "        break\n",
    "    elif not re.search(\"[0-9]\", password):\n",
    "        set_flag = -1\n",
    "        print(\"Enter atleast one number between 0 to 9\")\n",
    "        break\n",
    "    elif not re.search(\"[A-Z]\", password):\n",
    "        set_flag = -1\n",
    "        print(\"Enter atleast one uppercase letter from A to Z\")\n",
    "        break\n",
    "    elif not re.search(\"[$#@]\", password):\n",
    "        set_flag = -1\n",
    "        print(\"Enter atleast one special symbols like $, # and @ only\")\n",
    "        break\n",
    "    else:\n",
    "        set_flag = 0\n",
    "        print(\"Valid password!\")\n",
    "        break\n",
    "if set_flag == -1:\n",
    "    print(\"Not valid password!\")\n"
   ]
  },
  {
   "cell_type": "code",
   "execution_count": 40,
   "metadata": {
    "collapsed": true
   },
   "outputs": [
    {
     "name": "stdout",
     "output_type": "stream",
     "text": [
      "4 at index position:  0\n",
      "7 at index position:  1\n",
      "3 at index position:  2\n",
      "2 at index position:  3\n",
      "5 at index position:  4\n",
      "9 at index position:  5\n"
     ]
    }
   ],
   "source": [
    "#4. Write a for loop that prints all elements of a list and their position in the list.\n",
    "a = [4,7,3,2,5,9]\n",
    "for index, value in enumerate(a):\n",
    "    print(value, \"at index position: \", index)"
   ]
  },
  {
   "cell_type": "code",
   "execution_count": 45,
   "metadata": {
    "collapsed": true
   },
   "outputs": [
    {
     "name": "stdout",
     "output_type": "stream",
     "text": [
      "Enter a string\n",
      "anush jain\n",
      "auhji\n"
     ]
    }
   ],
   "source": [
    "#5. Please   write   a   program   which accepts  a   string   from   console   and   print   the characters that have even indexes.\n",
    "str = input(\"Enter a string\\n\")\n",
    "# create a string with characters at multiples of 2\n",
    "even_str = str[::2]\n",
    "print(even_str)"
   ]
  },
  {
   "cell_type": "code",
   "execution_count": 49,
   "metadata": {},
   "outputs": [
    {
     "name": "stdout",
     "output_type": "stream",
     "text": [
      "Enter the desired string: rise to vote sir\n",
      "ris etov ot esir\n"
     ]
    }
   ],
   "source": [
    "#6. Please write a program which accepts a string from console and print it in reverse order.\n",
    "string = input(\"Enter the desired string: \")\n",
    "rev_string = string[::-1]\n",
    "print(rev_string)"
   ]
  },
  {
   "cell_type": "code",
   "execution_count": 8,
   "metadata": {
    "collapsed": true
   },
   "outputs": [
    {
     "name": "stdout",
     "output_type": "stream",
     "text": [
      "Enter the desired string: geekforgeeks\n",
      "g 2\n",
      "e 4\n",
      "k 2\n",
      "f 1\n",
      "o 1\n",
      "r 1\n",
      "s 1\n"
     ]
    }
   ],
   "source": [
    "#7. Please write a program which count and print the numbers of each character in a string input by console.\n",
    "string = input(\"Enter the desired string: \")\n",
    "all_count = {}\n",
    "for i in string:\n",
    "    if i in all_count:\n",
    "        all_count[i] += 1\n",
    "    else:\n",
    "        all_count[i] = 1\n",
    "for k, v in all_count.items():\n",
    "    print(k, v)"
   ]
  },
  {
   "cell_type": "code",
   "execution_count": 10,
   "metadata": {},
   "outputs": [
    {
     "name": "stdout",
     "output_type": "stream",
     "text": [
      "The intersection of given two lists: list_a and list_b is:  [35]\n"
     ]
    }
   ],
   "source": [
    "#8. With   two   given   lists   [1,3,6,78,35,55]   and   [12,24,35,24,88,120,155],   \n",
    "#write   a program to make a list whose elements are intersection of the above given lists\n",
    "\n",
    "list_a = [1,3,6,78,35,55]\n",
    "list_b =  [12,24,35,24,88,120,155]\n",
    "list_c = [val for val in list_a if val in list_b]\n",
    "print(\"The intersection of given two lists: list_a and list_b is: \", list_c)"
   ]
  },
  {
   "cell_type": "code",
   "execution_count": 12,
   "metadata": {},
   "outputs": [
    {
     "name": "stdout",
     "output_type": "stream",
     "text": [
      "[12, 35, 88, 120, 155]\n"
     ]
    }
   ],
   "source": [
    "#9. By usinglist comprehension, please write a program to print the list after removing the value 24 in [12,24,35,24,88,120,155]\n",
    "sample_list = [12,24,35,24,88,120,155]\n",
    "result = [val for val in sample_list if val != 24]\n",
    "print(result)"
   ]
  },
  {
   "cell_type": "code",
   "execution_count": 18,
   "metadata": {},
   "outputs": [
    {
     "name": "stdout",
     "output_type": "stream",
     "text": [
      "[24, 35, 70, 155]\n"
     ]
    }
   ],
   "source": [
    "#10. By using list comprehension, please write a program \n",
    "#to print the list after removing the 0th,4th,5th numbers in [12,24,35,70,88,120,155].\n",
    "sample_list = [12,24,35,70,88,120,155]\n",
    "rem_list = [sample_list[0], sample_list[4], sample_list[5]]\n",
    "result = [val for val in sample_list if val not in rem_list]\n",
    "print(result)"
   ]
  },
  {
   "cell_type": "code",
   "execution_count": 20,
   "metadata": {},
   "outputs": [
    {
     "name": "stdout",
     "output_type": "stream",
     "text": [
      "[12, 24, 88]\n"
     ]
    }
   ],
   "source": [
    "#11. By using list comprehension, please write a program to print the list \n",
    "#after removing delete numbers which are divisible by 5 and 7 in [12,24,35,70,88,120,155]\n",
    "list_div = [12,24,35,70,88,120,155]\n",
    "result = [div for div in list_div if not(div%5 == 0 & div%7 == 0)]\n",
    "print(result)"
   ]
  },
  {
   "cell_type": "code",
   "execution_count": 23,
   "metadata": {},
   "outputs": [
    {
     "name": "stdout",
     "output_type": "stream",
     "text": [
      "Enter the desired number: 5\n",
      "3.55\n"
     ]
    }
   ],
   "source": [
    "#12. Write  a  program  to  compute  1/2+2/3+3/4+...+n/n+1  with  a  given  n  input  by console (n>0).\n",
    "num = int(input(\"Enter the desired number: \"))\n",
    "sum = 0.0\n",
    "for i in range(1, num+1):\n",
    "    sum += i/(i+1)\n",
    "print(round(sum,2))"
   ]
  }
 ],
 "metadata": {
  "kernelspec": {
   "display_name": "Python 3",
   "language": "python",
   "name": "python3"
  },
  "language_info": {
   "codemirror_mode": {
    "name": "ipython",
    "version": 3
   },
   "file_extension": ".py",
   "mimetype": "text/x-python",
   "name": "python",
   "nbconvert_exporter": "python",
   "pygments_lexer": "ipython3",
   "version": "3.7.3"
  }
 },
 "nbformat": 4,
 "nbformat_minor": 2
}
